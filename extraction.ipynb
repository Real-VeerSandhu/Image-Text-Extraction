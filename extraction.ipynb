{
 "cells": [
  {
   "cell_type": "markdown",
   "metadata": {},
   "source": [
    "# Imports"
   ]
  },
  {
   "cell_type": "code",
   "execution_count": null,
   "metadata": {},
   "outputs": [],
   "source": [
    "import numpy as np\n",
    "import pytesseract\n",
    "from PIL import Image\n",
    "import matplotlib.pyplot as plt\n",
    "\n",
    "plt.rcParams[\"figure.figsize\"] = (10,10)\n",
    "pytesseract.pytesseract.tesseract_cmd = 'E:/Program_Files/Tesseract/tesseract'"
   ]
  },
  {
   "cell_type": "markdown",
   "metadata": {},
   "source": [
    "# Extraction"
   ]
  },
  {
   "cell_type": "code",
   "execution_count": null,
   "metadata": {},
   "outputs": [],
   "source": [
    "def image_to_string(dir):\n",
    "    text = pytesseract.image_to_string(dir)\n",
    "    plt.imshow(Image.open(dir))\n",
    "    print(f'Text Detected:\\n\\n {text}')\n",
    "    return text"
   ]
  },
  {
   "cell_type": "code",
   "execution_count": null,
   "metadata": {},
   "outputs": [],
   "source": [
    "def image_to_txt(dir):\n",
    "    text = pytesseract.image_to_string(dir)\n",
    "\n",
    "    file_name = re.search('\\\\\\\\(.*)....', dir)\n",
    "    \n",
    "    text_file = open(f'output_text/{file_name.group(1)}.txt', 'w+')\n",
    "    text_file.write(text)\n",
    "    text_file.close()"
   ]
  },
  {
   "cell_type": "code",
   "execution_count": null,
   "metadata": {},
   "outputs": [],
   "source": [
    "def image_to_audio(dir):\n",
    "    text = pytesseract.image_to_string(dir)\n",
    "\n",
    "    file_name = re.search('\\\\\\\\(.*)....', dir)\n",
    "    \n",
    "    aud_file = open(f'output_text/{file_name.group(1)}.mp3', 'w+')\n",
    "    aud_file.write(text)\n",
    "    aud_file.close()"
   ]
  }
 ],
 "metadata": {
  "language_info": {
   "name": "python"
  },
  "orig_nbformat": 4
 },
 "nbformat": 4,
 "nbformat_minor": 2
}
